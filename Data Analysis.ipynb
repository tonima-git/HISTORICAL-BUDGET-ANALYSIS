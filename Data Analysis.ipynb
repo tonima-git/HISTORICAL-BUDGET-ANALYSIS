{
  "nbformat": 4,
  "nbformat_minor": 0,
  "metadata": {
    "colab": {
      "name": "Untitled6.ipynb",
      "provenance": []
    },
    "kernelspec": {
      "name": "python3",
      "display_name": "Python 3"
    },
    "language_info": {
      "name": "python"
    }
  },
  "cells": [
    {
      "cell_type": "code",
      "metadata": {
        "colab": {
          "base_uri": "https://localhost:8080/"
        },
        "id": "PQ1y5YpMe2ye",
        "outputId": "7f365aad-e96d-4ee4-8d63-2f228b783a0d"
      },
      "source": [
        "from google.colab import drive\n",
        "drive.mount('/content/drive') "
      ],
      "execution_count": 1,
      "outputs": [
        {
          "output_type": "stream",
          "text": [
            "Mounted at /content/drive\n"
          ],
          "name": "stdout"
        }
      ]
    },
    {
      "cell_type": "code",
      "metadata": {
        "colab": {
          "base_uri": "https://localhost:8080/"
        },
        "id": "4LAIjHGgfMTt",
        "outputId": "f75c1386-f226-42e1-a86b-910d2ab413a4"
      },
      "source": [
        "import matplotlib.pyplot as plt\n",
        "from statsmodels.tsa.statespace.sarimax import SARIMAX\n",
        "from statsmodels.graphics.tsaplots import plot_acf\n",
        "from statsmodels.graphics.tsaplots import plot_pacf\n",
        "from statsmodels.tsa.stattools import adfuller\n",
        "from sklearn.metrics import mean_squared_error"
      ],
      "execution_count": 2,
      "outputs": [
        {
          "output_type": "stream",
          "text": [
            "/usr/local/lib/python3.7/dist-packages/statsmodels/tools/_testing.py:19: FutureWarning: pandas.util.testing is deprecated. Use the functions in the public API at pandas.testing instead.\n",
            "  import pandas.util.testing as tm\n"
          ],
          "name": "stderr"
        }
      ]
    },
    {
      "cell_type": "code",
      "metadata": {
        "id": "t7h98Qo0fMQP"
      },
      "source": [
        "import pandas as pd\n",
        "df_rev = pd.read_csv(\"/content/drive/MyDrive/BudgetData/Revenue transpose.csv\")"
      ],
      "execution_count": 3,
      "outputs": []
    },
    {
      "cell_type": "code",
      "metadata": {
        "colab": {
          "base_uri": "https://localhost:8080/",
          "height": 660
        },
        "id": "9eJFTVTGfMOE",
        "outputId": "36de3b25-4197-4cdd-f460-dd24bad83a59"
      },
      "source": [
        "df_rev"
      ],
      "execution_count": 4,
      "outputs": [
        {
          "output_type": "execute_result",
          "data": {
            "text/html": [
              "<div>\n",
              "<style scoped>\n",
              "    .dataframe tbody tr th:only-of-type {\n",
              "        vertical-align: middle;\n",
              "    }\n",
              "\n",
              "    .dataframe tbody tr th {\n",
              "        vertical-align: top;\n",
              "    }\n",
              "\n",
              "    .dataframe thead th {\n",
              "        text-align: right;\n",
              "    }\n",
              "</style>\n",
              "<table border=\"1\" class=\"dataframe\">\n",
              "  <thead>\n",
              "    <tr style=\"text-align: right;\">\n",
              "      <th></th>\n",
              "      <th>Objects</th>\n",
              "      <th>Years</th>\n",
              "      <th>Revenue Receipt</th>\n",
              "      <th>Customs</th>\n",
              "      <th>Opium</th>\n",
              "      <th>Income Tax</th>\n",
              "      <th>Posts and Telegraph</th>\n",
              "      <th>Union Excise</th>\n",
              "      <th>Currency &amp; Mint</th>\n",
              "      <th>Civil Works</th>\n",
              "      <th>Civil Administration</th>\n",
              "      <th>Electricity Schemes</th>\n",
              "      <th>Corporation Tax</th>\n",
              "      <th>Estate Duty</th>\n",
              "      <th>Gift Tax</th>\n",
              "      <th>Defence Services</th>\n",
              "      <th>Taxes of Union Territories</th>\n",
              "      <th>Social and Development Services</th>\n",
              "      <th>Administrative Services</th>\n",
              "      <th>Social and Community Services</th>\n",
              "    </tr>\n",
              "  </thead>\n",
              "  <tbody>\n",
              "    <tr>\n",
              "      <th>0</th>\n",
              "      <td>0</td>\n",
              "      <td>1947-1948</td>\n",
              "      <td>1.973875e+09</td>\n",
              "      <td>5.215000e+08</td>\n",
              "      <td>8874000.0</td>\n",
              "      <td>4.524000e+08</td>\n",
              "      <td>20327000.0</td>\n",
              "      <td>2.208000e+08</td>\n",
              "      <td>1.412200e+07</td>\n",
              "      <td>NaN</td>\n",
              "      <td>22640000.0</td>\n",
              "      <td>NaN</td>\n",
              "      <td>4.271000e+08</td>\n",
              "      <td>NaN</td>\n",
              "      <td>NaN</td>\n",
              "      <td>NaN</td>\n",
              "      <td>NaN</td>\n",
              "      <td>NaN</td>\n",
              "      <td>NaN</td>\n",
              "      <td>NaN</td>\n",
              "    </tr>\n",
              "    <tr>\n",
              "      <th>1</th>\n",
              "      <td>1</td>\n",
              "      <td>1948-1949</td>\n",
              "      <td>2.573783e+09</td>\n",
              "      <td>8.117000e+08</td>\n",
              "      <td>14030000.0</td>\n",
              "      <td>5.067000e+08</td>\n",
              "      <td>7796000.0</td>\n",
              "      <td>4.710000e+08</td>\n",
              "      <td>9.401000e+07</td>\n",
              "      <td>NaN</td>\n",
              "      <td>51160000.0</td>\n",
              "      <td>NaN</td>\n",
              "      <td>4.980000e+08</td>\n",
              "      <td>NaN</td>\n",
              "      <td>NaN</td>\n",
              "      <td>NaN</td>\n",
              "      <td>NaN</td>\n",
              "      <td>NaN</td>\n",
              "      <td>NaN</td>\n",
              "      <td>NaN</td>\n",
              "    </tr>\n",
              "    <tr>\n",
              "      <th>2</th>\n",
              "      <td>2</td>\n",
              "      <td>1949-1950</td>\n",
              "      <td>3.229811e+09</td>\n",
              "      <td>1.112300e+09</td>\n",
              "      <td>11784000.0</td>\n",
              "      <td>6.624000e+08</td>\n",
              "      <td>44743000.0</td>\n",
              "      <td>6.927000e+08</td>\n",
              "      <td>9.695100e+07</td>\n",
              "      <td>NaN</td>\n",
              "      <td>67804000.0</td>\n",
              "      <td>NaN</td>\n",
              "      <td>4.181000e+08</td>\n",
              "      <td>NaN</td>\n",
              "      <td>NaN</td>\n",
              "      <td>NaN</td>\n",
              "      <td>NaN</td>\n",
              "      <td>NaN</td>\n",
              "      <td>NaN</td>\n",
              "      <td>NaN</td>\n",
              "    </tr>\n",
              "    <tr>\n",
              "      <th>3</th>\n",
              "      <td>3</td>\n",
              "      <td>1950-1951</td>\n",
              "      <td>3.391874e+09</td>\n",
              "      <td>1.065400e+09</td>\n",
              "      <td>15545000.0</td>\n",
              "      <td>8.145000e+08</td>\n",
              "      <td>40400000.0</td>\n",
              "      <td>7.155000e+08</td>\n",
              "      <td>9.523100e+07</td>\n",
              "      <td>NaN</td>\n",
              "      <td>NaN</td>\n",
              "      <td>NaN</td>\n",
              "      <td>3.810000e+08</td>\n",
              "      <td>NaN</td>\n",
              "      <td>NaN</td>\n",
              "      <td>NaN</td>\n",
              "      <td>NaN</td>\n",
              "      <td>NaN</td>\n",
              "      <td>NaN</td>\n",
              "      <td>NaN</td>\n",
              "    </tr>\n",
              "    <tr>\n",
              "      <th>4</th>\n",
              "      <td>4</td>\n",
              "      <td>1952-1953</td>\n",
              "      <td>4.249800e+09</td>\n",
              "      <td>1.900000e+09</td>\n",
              "      <td>22000000.0</td>\n",
              "      <td>6.863000e+08</td>\n",
              "      <td>NaN</td>\n",
              "      <td>8.600000e+08</td>\n",
              "      <td>NaN</td>\n",
              "      <td>1.510000e+07</td>\n",
              "      <td>89000000.0</td>\n",
              "      <td>30000.0</td>\n",
              "      <td>3.053000e+08</td>\n",
              "      <td>NaN</td>\n",
              "      <td>NaN</td>\n",
              "      <td>NaN</td>\n",
              "      <td>NaN</td>\n",
              "      <td>NaN</td>\n",
              "      <td>NaN</td>\n",
              "      <td>NaN</td>\n",
              "    </tr>\n",
              "    <tr>\n",
              "      <th>...</th>\n",
              "      <td>...</td>\n",
              "      <td>...</td>\n",
              "      <td>...</td>\n",
              "      <td>...</td>\n",
              "      <td>...</td>\n",
              "      <td>...</td>\n",
              "      <td>...</td>\n",
              "      <td>...</td>\n",
              "      <td>...</td>\n",
              "      <td>...</td>\n",
              "      <td>...</td>\n",
              "      <td>...</td>\n",
              "      <td>...</td>\n",
              "      <td>...</td>\n",
              "      <td>...</td>\n",
              "      <td>...</td>\n",
              "      <td>...</td>\n",
              "      <td>...</td>\n",
              "      <td>...</td>\n",
              "      <td>...</td>\n",
              "    </tr>\n",
              "    <tr>\n",
              "      <th>59</th>\n",
              "      <td>59</td>\n",
              "      <td>2016-2017</td>\n",
              "      <td>1.380000e+13</td>\n",
              "      <td>2.300000e+12</td>\n",
              "      <td>NaN</td>\n",
              "      <td>3.530000e+12</td>\n",
              "      <td>NaN</td>\n",
              "      <td>3.190000e+12</td>\n",
              "      <td>6.000000e+09</td>\n",
              "      <td>1.311200e+09</td>\n",
              "      <td>NaN</td>\n",
              "      <td>NaN</td>\n",
              "      <td>4.940000e+12</td>\n",
              "      <td>NaN</td>\n",
              "      <td>NaN</td>\n",
              "      <td>NaN</td>\n",
              "      <td>4.121000e+10</td>\n",
              "      <td>NaN</td>\n",
              "      <td>1.650000e+09</td>\n",
              "      <td>NaN</td>\n",
              "    </tr>\n",
              "    <tr>\n",
              "      <th>60</th>\n",
              "      <td>60</td>\n",
              "      <td>2017-2018</td>\n",
              "      <td>1.520000e+13</td>\n",
              "      <td>2.450000e+12</td>\n",
              "      <td>NaN</td>\n",
              "      <td>4.410000e+12</td>\n",
              "      <td>NaN</td>\n",
              "      <td>4.070000e+12</td>\n",
              "      <td>6.000000e+09</td>\n",
              "      <td>1.730000e+11</td>\n",
              "      <td>NaN</td>\n",
              "      <td>NaN</td>\n",
              "      <td>5.390000e+12</td>\n",
              "      <td>NaN</td>\n",
              "      <td>NaN</td>\n",
              "      <td>NaN</td>\n",
              "      <td>4.679000e+10</td>\n",
              "      <td>NaN</td>\n",
              "      <td>1.495000e+09</td>\n",
              "      <td>NaN</td>\n",
              "    </tr>\n",
              "    <tr>\n",
              "      <th>61</th>\n",
              "      <td>61</td>\n",
              "      <td>2018-2019</td>\n",
              "      <td>1.990000e+13</td>\n",
              "      <td>1.130000e+12</td>\n",
              "      <td>NaN</td>\n",
              "      <td>5.180000e+12</td>\n",
              "      <td>NaN</td>\n",
              "      <td>2.600000e+12</td>\n",
              "      <td>6.000000e+09</td>\n",
              "      <td>7.665000e+08</td>\n",
              "      <td>NaN</td>\n",
              "      <td>NaN</td>\n",
              "      <td>6.210000e+12</td>\n",
              "      <td>NaN</td>\n",
              "      <td>NaN</td>\n",
              "      <td>NaN</td>\n",
              "      <td>2.711560e+10</td>\n",
              "      <td>NaN</td>\n",
              "      <td>1.530000e+11</td>\n",
              "      <td>NaN</td>\n",
              "    </tr>\n",
              "    <tr>\n",
              "      <th>62</th>\n",
              "      <td>62</td>\n",
              "      <td>2019-2020</td>\n",
              "      <td>2.250000e+13</td>\n",
              "      <td>1.560000e+12</td>\n",
              "      <td>NaN</td>\n",
              "      <td>5.560000e+12</td>\n",
              "      <td>NaN</td>\n",
              "      <td>3.000000e+12</td>\n",
              "      <td>3.000000e+09</td>\n",
              "      <td>3.730300e+09</td>\n",
              "      <td>NaN</td>\n",
              "      <td>NaN</td>\n",
              "      <td>7.660000e+12</td>\n",
              "      <td>NaN</td>\n",
              "      <td>NaN</td>\n",
              "      <td>NaN</td>\n",
              "      <td>4.179930e+10</td>\n",
              "      <td>NaN</td>\n",
              "      <td>1.870000e+11</td>\n",
              "      <td>NaN</td>\n",
              "    </tr>\n",
              "    <tr>\n",
              "      <th>63</th>\n",
              "      <td>63</td>\n",
              "      <td>2020-2021</td>\n",
              "      <td>7.230000e+14</td>\n",
              "      <td>1.380000e+12</td>\n",
              "      <td>NaN</td>\n",
              "      <td>6.250000e+12</td>\n",
              "      <td>NaN</td>\n",
              "      <td>2.670000e+12</td>\n",
              "      <td>5.600000e+09</td>\n",
              "      <td>5.950300e+09</td>\n",
              "      <td>NaN</td>\n",
              "      <td>NaN</td>\n",
              "      <td>6.810000e+12</td>\n",
              "      <td>NaN</td>\n",
              "      <td>NaN</td>\n",
              "      <td>NaN</td>\n",
              "      <td>4.500000e+10</td>\n",
              "      <td>NaN</td>\n",
              "      <td>1.720000e+11</td>\n",
              "      <td>NaN</td>\n",
              "    </tr>\n",
              "  </tbody>\n",
              "</table>\n",
              "<p>64 rows × 20 columns</p>\n",
              "</div>"
            ],
            "text/plain": [
              "    Objects      Years  ...  Administrative Services  Social and Community Services\n",
              "0         0  1947-1948  ...                      NaN                            NaN\n",
              "1         1  1948-1949  ...                      NaN                            NaN\n",
              "2         2  1949-1950  ...                      NaN                            NaN\n",
              "3         3  1950-1951  ...                      NaN                            NaN\n",
              "4         4  1952-1953  ...                      NaN                            NaN\n",
              "..      ...        ...  ...                      ...                            ...\n",
              "59       59  2016-2017  ...             1.650000e+09                            NaN\n",
              "60       60  2017-2018  ...             1.495000e+09                            NaN\n",
              "61       61  2018-2019  ...             1.530000e+11                            NaN\n",
              "62       62  2019-2020  ...             1.870000e+11                            NaN\n",
              "63       63  2020-2021  ...             1.720000e+11                            NaN\n",
              "\n",
              "[64 rows x 20 columns]"
            ]
          },
          "metadata": {
            "tags": []
          },
          "execution_count": 4
        }
      ]
    },
    {
      "cell_type": "code",
      "metadata": {
        "id": "azfP1tSTfhrE"
      },
      "source": [
        "from itertools import cycle, islice"
      ],
      "execution_count": 6,
      "outputs": []
    },
    {
      "cell_type": "code",
      "metadata": {
        "colab": {
          "base_uri": "https://localhost:8080/",
          "height": 616
        },
        "id": "IfO4-ywOfMLY",
        "outputId": "dae16254-bea2-4c9e-c52c-3ba2cd88dc4f"
      },
      "source": [
        "df_rev.reset_index().plot(x=\"Years\", y=[\"Customs\",\"Opium\",\"Income Tax\",\"Posts and Telegraph\",\"Union Excise\",\"Currency & Mint\",\"Civil Works\",\"Civil Administration\",\"Electricity Schemes\",\"Corporation Tax\",\"Estate Duty\",\"Gift Tax\",\"Defence Services\",\"Taxes of Union Territories\",\"Social and Development Services\",\"Administrative Services\",\"Social and Community Services\"], kind=\"bar\", stacked=True, figsize=(24,10), width=3.5, color=list(islice(cycle(['red', 'blue', 'green', 'grey', 'yellow', 'teal', 'pink', 'brown', 'aqua', 'purple', 'orange', 'lime', 'salmon', 'gold', 'maroon', 'navy', 'crimson']),len(df_rev))))"
      ],
      "execution_count": 7,
      "outputs": [
        {
          "output_type": "execute_result",
          "data": {
            "text/plain": [
              "<matplotlib.axes._subplots.AxesSubplot at 0x7ff55421b8d0>"
            ]
          },
          "metadata": {
            "tags": []
          },
          "execution_count": 7
        },
        {
          "output_type": "display_data",
          "data": {
            "image/png": "[encoded data removed]",
            "text/plain": [
              "<Figure size 1728x720 with 1 Axes>"
            ]
          },
          "metadata": {
            "tags": [],
            "needs_background": "light"
          }
        }
      ]
    },
    {
      "cell_type": "code",
      "metadata": {
        "id": "op4yvZaffMI8"
      },
      "source": [
        "import pandas as pd\n",
        "df_exp = pd.read_csv(\"/content/drive/MyDrive/BudgetData/Expenditure transpose.csv\")"
      ],
      "execution_count": 8,
      "outputs": []
    },
    {
      "cell_type": "code",
      "metadata": {
        "colab": {
          "base_uri": "https://localhost:8080/",
          "height": 694
        },
        "id": "mtuM-SSYfMGn",
        "outputId": "ae5fdc21-53bc-47d6-a086-1d4fd113eb5d"
      },
      "source": [
        "df_exp"
      ],
      "execution_count": 9,
      "outputs": [
        {
          "output_type": "execute_result",
          "data": {
            "text/html": [
              "<div>\n",
              "<style scoped>\n",
              "    .dataframe tbody tr th:only-of-type {\n",
              "        vertical-align: middle;\n",
              "    }\n",
              "\n",
              "    .dataframe tbody tr th {\n",
              "        vertical-align: top;\n",
              "    }\n",
              "\n",
              "    .dataframe thead th {\n",
              "        text-align: right;\n",
              "    }\n",
              "</style>\n",
              "<table border=\"1\" class=\"dataframe\">\n",
              "  <thead>\n",
              "    <tr style=\"text-align: right;\">\n",
              "      <th></th>\n",
              "      <th>Objects</th>\n",
              "      <th>Years</th>\n",
              "      <th>Expenditure</th>\n",
              "      <th>Defence Services</th>\n",
              "      <th>Social Services</th>\n",
              "      <th>Economic Services</th>\n",
              "      <th>Civil Works</th>\n",
              "      <th>Currency and mint</th>\n",
              "      <th>Social and Community Services</th>\n",
              "      <th>Social and Development services</th>\n",
              "      <th>Transport and Communication</th>\n",
              "      <th>Agriculture and Allied Services</th>\n",
              "      <th>Science and Technology</th>\n",
              "      <th>Irrigation</th>\n",
              "      <th>Civil Administration</th>\n",
              "      <th>Debt Services</th>\n",
              "      <th>Miscellaneous</th>\n",
              "      <th>Electricity Schemes</th>\n",
              "      <th>Administration Services</th>\n",
              "      <th>River Schemes, Irrigation and Electricity Schemes</th>\n",
              "    </tr>\n",
              "  </thead>\n",
              "  <tbody>\n",
              "    <tr>\n",
              "      <th>0</th>\n",
              "      <td>0</td>\n",
              "      <td>1947-1948</td>\n",
              "      <td>1.973875e+09</td>\n",
              "      <td>9.274290e+08</td>\n",
              "      <td>NaN</td>\n",
              "      <td>NaN</td>\n",
              "      <td>NaN</td>\n",
              "      <td>12000000.0</td>\n",
              "      <td>NaN</td>\n",
              "      <td>NaN</td>\n",
              "      <td>NaN</td>\n",
              "      <td>NaN</td>\n",
              "      <td>NaN</td>\n",
              "      <td>NaN</td>\n",
              "      <td>202408000.0</td>\n",
              "      <td>205240000.0</td>\n",
              "      <td>686963000.0</td>\n",
              "      <td>NaN</td>\n",
              "      <td>NaN</td>\n",
              "      <td>NaN</td>\n",
              "    </tr>\n",
              "    <tr>\n",
              "      <th>1</th>\n",
              "      <td>1</td>\n",
              "      <td>1948-1949</td>\n",
              "      <td>2.573783e+09</td>\n",
              "      <td>1.210778e+09</td>\n",
              "      <td>NaN</td>\n",
              "      <td>NaN</td>\n",
              "      <td>NaN</td>\n",
              "      <td>21982000.0</td>\n",
              "      <td>NaN</td>\n",
              "      <td>NaN</td>\n",
              "      <td>NaN</td>\n",
              "      <td>NaN</td>\n",
              "      <td>NaN</td>\n",
              "      <td>NaN</td>\n",
              "      <td>345585000.0</td>\n",
              "      <td>411628000.0</td>\n",
              "      <td>359320000.0</td>\n",
              "      <td>NaN</td>\n",
              "      <td>NaN</td>\n",
              "      <td>NaN</td>\n",
              "    </tr>\n",
              "    <tr>\n",
              "      <th>2</th>\n",
              "      <td>2</td>\n",
              "      <td>1949-1950</td>\n",
              "      <td>3.229811e+09</td>\n",
              "      <td>1.573662e+09</td>\n",
              "      <td>NaN</td>\n",
              "      <td>NaN</td>\n",
              "      <td>NaN</td>\n",
              "      <td>22289000.0</td>\n",
              "      <td>NaN</td>\n",
              "      <td>NaN</td>\n",
              "      <td>NaN</td>\n",
              "      <td>NaN</td>\n",
              "      <td>NaN</td>\n",
              "      <td>NaN</td>\n",
              "      <td>405022000.0</td>\n",
              "      <td>392934000.0</td>\n",
              "      <td>506217000.0</td>\n",
              "      <td>NaN</td>\n",
              "      <td>NaN</td>\n",
              "      <td>NaN</td>\n",
              "    </tr>\n",
              "    <tr>\n",
              "      <th>3</th>\n",
              "      <td>3</td>\n",
              "      <td>1950-1951</td>\n",
              "      <td>3.391900e+09</td>\n",
              "      <td>1.680100e+09</td>\n",
              "      <td>NaN</td>\n",
              "      <td>NaN</td>\n",
              "      <td>9.972100e+07</td>\n",
              "      <td>17588000.0</td>\n",
              "      <td>NaN</td>\n",
              "      <td>NaN</td>\n",
              "      <td>NaN</td>\n",
              "      <td>NaN</td>\n",
              "      <td>NaN</td>\n",
              "      <td>2299000.0</td>\n",
              "      <td>500551000.0</td>\n",
              "      <td>365007000.0</td>\n",
              "      <td>386976000.0</td>\n",
              "      <td>NaN</td>\n",
              "      <td>NaN</td>\n",
              "      <td>NaN</td>\n",
              "    </tr>\n",
              "    <tr>\n",
              "      <th>4</th>\n",
              "      <td>4</td>\n",
              "      <td>1952-1953</td>\n",
              "      <td>4.049831e+09</td>\n",
              "      <td>1.979494e+09</td>\n",
              "      <td>NaN</td>\n",
              "      <td>NaN</td>\n",
              "      <td>1.495630e+08</td>\n",
              "      <td>31999000.0</td>\n",
              "      <td>NaN</td>\n",
              "      <td>NaN</td>\n",
              "      <td>NaN</td>\n",
              "      <td>NaN</td>\n",
              "      <td>NaN</td>\n",
              "      <td>1780000.0</td>\n",
              "      <td>559805000.0</td>\n",
              "      <td>361600000.0</td>\n",
              "      <td>409254000.0</td>\n",
              "      <td>25000.0</td>\n",
              "      <td>NaN</td>\n",
              "      <td>NaN</td>\n",
              "    </tr>\n",
              "    <tr>\n",
              "      <th>...</th>\n",
              "      <td>...</td>\n",
              "      <td>...</td>\n",
              "      <td>...</td>\n",
              "      <td>...</td>\n",
              "      <td>...</td>\n",
              "      <td>...</td>\n",
              "      <td>...</td>\n",
              "      <td>...</td>\n",
              "      <td>...</td>\n",
              "      <td>...</td>\n",
              "      <td>...</td>\n",
              "      <td>...</td>\n",
              "      <td>...</td>\n",
              "      <td>...</td>\n",
              "      <td>...</td>\n",
              "      <td>...</td>\n",
              "      <td>...</td>\n",
              "      <td>...</td>\n",
              "      <td>...</td>\n",
              "      <td>...</td>\n",
              "    </tr>\n",
              "    <tr>\n",
              "      <th>59</th>\n",
              "      <td>59</td>\n",
              "      <td>2016-2017</td>\n",
              "      <td>1.730000e+13</td>\n",
              "      <td>1.630000e+12</td>\n",
              "      <td>3.210000e+11</td>\n",
              "      <td>3.430000e+11</td>\n",
              "      <td>1.747600e+10</td>\n",
              "      <td>NaN</td>\n",
              "      <td>NaN</td>\n",
              "      <td>NaN</td>\n",
              "      <td>2.440000e+12</td>\n",
              "      <td>1.940000e+11</td>\n",
              "      <td>2.090000e+11</td>\n",
              "      <td>NaN</td>\n",
              "      <td>NaN</td>\n",
              "      <td>NaN</td>\n",
              "      <td>NaN</td>\n",
              "      <td>NaN</td>\n",
              "      <td>NaN</td>\n",
              "      <td>NaN</td>\n",
              "    </tr>\n",
              "    <tr>\n",
              "      <th>60</th>\n",
              "      <td>60</td>\n",
              "      <td>2017-2018</td>\n",
              "      <td>2.150000e+13</td>\n",
              "      <td>2.620000e+12</td>\n",
              "      <td>1.090000e+12</td>\n",
              "      <td>7.090000e+12</td>\n",
              "      <td>1.870660e+10</td>\n",
              "      <td>NaN</td>\n",
              "      <td>NaN</td>\n",
              "      <td>NaN</td>\n",
              "      <td>2.480000e+12</td>\n",
              "      <td>5.700000e+11</td>\n",
              "      <td>2.350000e+11</td>\n",
              "      <td>NaN</td>\n",
              "      <td>NaN</td>\n",
              "      <td>NaN</td>\n",
              "      <td>NaN</td>\n",
              "      <td>NaN</td>\n",
              "      <td>NaN</td>\n",
              "      <td>NaN</td>\n",
              "    </tr>\n",
              "    <tr>\n",
              "      <th>61</th>\n",
              "      <td>61</td>\n",
              "      <td>2018-2019</td>\n",
              "      <td>2.410000e+13</td>\n",
              "      <td>1.950000e+12</td>\n",
              "      <td>1.060000e+12</td>\n",
              "      <td>7.770000e+12</td>\n",
              "      <td>2.040310e+10</td>\n",
              "      <td>NaN</td>\n",
              "      <td>NaN</td>\n",
              "      <td>NaN</td>\n",
              "      <td>2.680000e+12</td>\n",
              "      <td>2.400000e+12</td>\n",
              "      <td>2.790000e+11</td>\n",
              "      <td>NaN</td>\n",
              "      <td>NaN</td>\n",
              "      <td>NaN</td>\n",
              "      <td>NaN</td>\n",
              "      <td>NaN</td>\n",
              "      <td>NaN</td>\n",
              "      <td>NaN</td>\n",
              "    </tr>\n",
              "    <tr>\n",
              "      <th>62</th>\n",
              "      <td>62</td>\n",
              "      <td>2019-2020</td>\n",
              "      <td>2.730000e+13</td>\n",
              "      <td>2.090000e+12</td>\n",
              "      <td>1.290000e+12</td>\n",
              "      <td>9.110000e+12</td>\n",
              "      <td>2.038670e+10</td>\n",
              "      <td>NaN</td>\n",
              "      <td>NaN</td>\n",
              "      <td>NaN</td>\n",
              "      <td>2.680000e+12</td>\n",
              "      <td>3.340000e+12</td>\n",
              "      <td>2.880000e+11</td>\n",
              "      <td>NaN</td>\n",
              "      <td>NaN</td>\n",
              "      <td>NaN</td>\n",
              "      <td>NaN</td>\n",
              "      <td>NaN</td>\n",
              "      <td>NaN</td>\n",
              "      <td>NaN</td>\n",
              "    </tr>\n",
              "    <tr>\n",
              "      <th>63</th>\n",
              "      <td>63</td>\n",
              "      <td>2020-2021</td>\n",
              "      <td>2.940000e+13</td>\n",
              "      <td>2.180000e+12</td>\n",
              "      <td>1.550000e+12</td>\n",
              "      <td>8.770000e+12</td>\n",
              "      <td>2.099540e+10</td>\n",
              "      <td>NaN</td>\n",
              "      <td>NaN</td>\n",
              "      <td>NaN</td>\n",
              "      <td>2.960000e+12</td>\n",
              "      <td>2.099540e+10</td>\n",
              "      <td>3.050000e+11</td>\n",
              "      <td>NaN</td>\n",
              "      <td>NaN</td>\n",
              "      <td>NaN</td>\n",
              "      <td>NaN</td>\n",
              "      <td>NaN</td>\n",
              "      <td>NaN</td>\n",
              "      <td>NaN</td>\n",
              "    </tr>\n",
              "  </tbody>\n",
              "</table>\n",
              "<p>64 rows × 20 columns</p>\n",
              "</div>"
            ],
            "text/plain": [
              "    Objects  ... River Schemes, Irrigation and Electricity Schemes\n",
              "0         0  ...                                               NaN\n",
              "1         1  ...                                               NaN\n",
              "2         2  ...                                               NaN\n",
              "3         3  ...                                               NaN\n",
              "4         4  ...                                               NaN\n",
              "..      ...  ...                                               ...\n",
              "59       59  ...                                               NaN\n",
              "60       60  ...                                               NaN\n",
              "61       61  ...                                               NaN\n",
              "62       62  ...                                               NaN\n",
              "63       63  ...                                               NaN\n",
              "\n",
              "[64 rows x 20 columns]"
            ]
          },
          "metadata": {
            "tags": []
          },
          "execution_count": 9
        }
      ]
    },
    {
      "cell_type": "code",
      "metadata": {
        "colab": {
          "base_uri": "https://localhost:8080/",
          "height": 614
        },
        "id": "2XsCJUVhfMEA",
        "outputId": "ae6436c6-7587-4196-fcd7-dcf822990b7c"
      },
      "source": [
        "df_exp.reset_index().plot(x=\"Years\", y=[\"Defence Services\",\"Social Services\",\"Economic Services\",\"Civil Works\",\"Currency and mint\",\"Social and Community Services\",\"Social and Development services\",\"Transport and Communication\",\"Agriculture and Allied Services\",\"Science and Technology\",\"Irrigation\",\"Civil Administration\",\"Debt Services\",\"Miscellaneous\",\"Electricity Schemes\",\"Administration Services\",\"River Schemes, Irrigation and Electricity Schemes\"], kind=\"bar\", stacked=True, figsize=(24,10), width=5.5, color=list(islice(cycle(['red', 'blue', 'green', 'grey', 'yellow', 'teal', 'pink', 'brown', 'aqua', 'purple', 'orange', 'lime', 'salmon', 'gold', 'maroon', 'navy', 'crimson']),len(df_exp))))"
      ],
      "execution_count": 10,
      "outputs": [
        {
          "output_type": "execute_result",
          "data": {
            "text/plain": [
              "<matplotlib.axes._subplots.AxesSubplot at 0x7ff55342f790>"
            ]
          },
          "metadata": {
            "tags": []
          },
          "execution_count": 10
        },
        {
          "output_type": "display_data",
          "data": {
            "image/png": "[encoded data removed]",
            "text/plain": [
              "<Figure size 1728x720 with 1 Axes>"
            ]
          },
          "metadata": {
            "tags": [],
            "needs_background": "light"
          }
        }
      ]
    },
    {
      "cell_type": "code",
      "metadata": {
        "id": "6v_t4TeSfMBd"
      },
      "source": [
        ""
      ],
      "execution_count": null,
      "outputs": []
    },
    {
      "cell_type": "code",
      "metadata": {
        "id": "02Vjk9gwfL_M"
      },
      "source": [
        ""
      ],
      "execution_count": null,
      "outputs": []
    },
    {
      "cell_type": "code",
      "metadata": {
        "id": "rML9s8GAfL8s"
      },
      "source": [
        ""
      ],
      "execution_count": null,
      "outputs": []
    },
    {
      "cell_type": "code",
      "metadata": {
        "id": "w4I9SL7xfL6W"
      },
      "source": [
        ""
      ],
      "execution_count": null,
      "outputs": []
    },
    {
      "cell_type": "code",
      "metadata": {
        "id": "tGjaHJQvfL3s"
      },
      "source": [
        ""
      ],
      "execution_count": null,
      "outputs": []
    },
    {
      "cell_type": "code",
      "metadata": {
        "id": "J4wT7QDJfL1K"
      },
      "source": [
        ""
      ],
      "execution_count": null,
      "outputs": []
    },
    {
      "cell_type": "code",
      "metadata": {
        "id": "ZNX1KObrfLyq"
      },
      "source": [
        ""
      ],
      "execution_count": null,
      "outputs": []
    },
    {
      "cell_type": "code",
      "metadata": {
        "id": "xwJagTArfLvx"
      },
      "source": [
        ""
      ],
      "execution_count": null,
      "outputs": []
    },
    {
      "cell_type": "code",
      "metadata": {
        "id": "UACQJ-i_fLtT"
      },
      "source": [
        ""
      ],
      "execution_count": null,
      "outputs": []
    }
  ]
}